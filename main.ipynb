{
 "cells": [
  {
   "cell_type": "code",
   "execution_count": 20,
   "metadata": {},
   "outputs": [],
   "source": [
    "import numpy as np\n",
    "import pandas as pd\n",
    "from pyspark.sql import SparkSession\n",
    "from pyspark.sql.functions import countDistinct\n",
    "import math"
   ]
  },
  {
   "cell_type": "code",
   "execution_count": 21,
   "metadata": {},
   "outputs": [
    {
     "name": "stdout",
     "output_type": "stream",
     "text": [
      "+----------------+-------------+-------------------+-------------------+--------------------+----------------+--------------------+--------------+------------------+------------------+--------------+--------------+-------------+\n",
      "|         ride_id|rideable_type|         started_at|           ended_at|  start_station_name|start_station_id|    end_station_name|end_station_id|         start_lat|         start_lng|       end_lat|       end_lng|member_casual|\n",
      "+----------------+-------------+-------------------+-------------------+--------------------+----------------+--------------------+--------------+------------------+------------------+--------------+--------------+-------------+\n",
      "|47EC0A7F82E65D52| classic_bike|2022-03-21 13:45:01|2022-03-21 13:51:18|Wabash Ave & Wack...|    TA1307000131|Kingsbury St & Ki...|  KA1503000043|         41.886875|         -87.62603|41.88917683258|-87.6385057718|       member|\n",
      "|8494861979B0F477|electric_bike|2022-03-16 09:37:16|2022-03-16 09:43:34|Michigan Ave & Oa...|           13042|Orleans St & Ches...|           620| 41.90099766666667|-87.62375166666666|     41.898203|    -87.637536|       member|\n",
      "|EFE527AF80B66109| classic_bike|2022-03-23 19:52:02|2022-03-23 19:54:48|Broadway & Berwyn...|           13109|Broadway & Ridge Ave|         15578|         41.978353|        -87.659753| 41.9840446107|-87.6602738295|       member|\n",
      "|9F446FD9DEE3F389| classic_bike|2022-03-01 19:12:26|2022-03-01 19:22:14|Wabash Ave & Wack...|    TA1307000131|Franklin St & Jac...|  TA1305000025|         41.886875|         -87.62603| 41.8777079559|-87.6353211408|       member|\n",
      "|431128AD9AFFEDC0| classic_bike|2022-03-21 18:37:01|2022-03-21 19:19:11|DuSable Lake Shor...|          LF-005|Loomis St & Jacks...|         13206|         41.911722|        -87.626804|     41.877945|    -87.662007|       member|\n",
      "|9AA8A13AF7A85325| classic_bike|2022-03-07 17:10:22|2022-03-07 17:15:04|Bissell St & Armi...|           13059|Southport Ave & C...|  TA1309000030| 41.91801814237187|-87.65218198299408|     41.920771|    -87.663712|       member|\n",
      "|28E3387BFE2A5E85|electric_bike|2022-03-10 17:21:22|2022-03-10 17:24:39|Bissell St & Armi...|           13059|Southport Ave & C...|  TA1309000030|41.917916166666664|-87.65206016666667|     41.920771|    -87.663712|       member|\n",
      "|74831EB3EA9CF123| classic_bike|2022-03-05 12:31:37|2022-03-05 12:42:54|DuSable Lake Shor...|          LF-005|Stockton Dr & Wri...|         13276|         41.911722|        -87.626804|      41.93132|    -87.638742|       member|\n",
      "|BD70E7114BC486F1|electric_bike|2022-03-17 17:32:44|2022-03-17 17:43:27|Western Ave & Win...|           13068|Dayton St & North...|         13058|      41.915544152|     -87.687069893| 41.9105780349|-87.6494219288|       casual|\n",
      "|482458CD09B6FAF0| classic_bike|2022-03-04 19:06:32|2022-03-04 19:19:46|Sheffield Ave & W...|    TA1309000033|Clark St & Newpor...|           632|          41.92154|        -87.653818|      41.94454|    -87.654678|       member|\n",
      "+----------------+-------------+-------------------+-------------------+--------------------+----------------+--------------------+--------------+------------------+------------------+--------------+--------------+-------------+\n",
      "only showing top 10 rows\n",
      "\n"
     ]
    }
   ],
   "source": [
    "spark = SparkSession.builder.getOrCreate()\n",
    "df  = spark.read\\\n",
    "        .option('header', True)\\\n",
    "        .csv('./202203-divvy-tripdata/202203-divvy-tripdata.csv')\n",
    "\n",
    "#df_rdd = spark.sparkContext.parallelize(df)\n",
    "#df_rdd.getNumPartitions()\n",
    "df.show(10)"
   ]
  },
  {
   "cell_type": "code",
   "execution_count": 3,
   "metadata": {},
   "outputs": [
    {
     "name": "stdout",
     "output_type": "stream",
     "text": [
      "+-----------------------------+\n",
      "|count(DISTINCT rideable_type)|\n",
      "+-----------------------------+\n",
      "|                            3|\n",
      "+-----------------------------+\n",
      "\n"
     ]
    },
    {
     "data": {
      "text/plain": [
       "['docked_bike', 'electric_bike', 'classic_bike']"
      ]
     },
     "execution_count": 3,
     "metadata": {},
     "output_type": "execute_result"
    }
   ],
   "source": [
    "type_ride = df.select('rideable_type').distinct().rdd.map(lambda x: x[0]).collect()\n",
    "\n",
    "n_type_ride = df.select(countDistinct('rideable_type'))\n",
    "n_type_ride.show()\n",
    "\n",
    "type_ride"
   ]
  },
  {
   "cell_type": "code",
   "execution_count": 4,
   "metadata": {},
   "outputs": [],
   "source": [
    "member = df.filter(df.member_casual == 'member')\n",
    "casual = df.filter(df.member_casual != 'member')"
   ]
  },
  {
   "cell_type": "code",
   "execution_count": 11,
   "metadata": {},
   "outputs": [
    {
     "name": "stdout",
     "output_type": "stream",
     "text": [
      "+-------------+-----+\n",
      "|rideable_type|count|\n",
      "+-------------+-----+\n",
      "|electric_bike|95108|\n",
      "|classic_bike |99052|\n",
      "+-------------+-----+\n",
      "\n",
      "+-------------+-----+\n",
      "|rideable_type|count|\n",
      "+-------------+-----+\n",
      "|docked_bike  |8358 |\n",
      "|electric_bike|46137|\n",
      "|classic_bike |35387|\n",
      "+-------------+-----+\n",
      "\n"
     ]
    }
   ],
   "source": [
    "member.select('rideable_type')\\\n",
    "        .groupBy('rideable_type')\\\n",
    "        .count()\\\n",
    "        .show(5, truncate=False)\n",
    "\n",
    "casual.select('rideable_type')\\\n",
    "        .groupBy('rideable_type')\\\n",
    "        .count()\\\n",
    "        .show(5, truncate=False)"
   ]
  },
  {
   "cell_type": "code",
   "execution_count": 19,
   "metadata": {},
   "outputs": [
    {
     "name": "stdout",
     "output_type": "stream",
     "text": [
      "+----------------+-------------+-------------------+-------------------+--------------------+----------------+--------------------+--------------+-----------------+------------------+--------------+--------------+-------------+--------------------+--------------------+\n",
      "|         ride_id|rideable_type|         started_at|           ended_at|  start_station_name|start_station_id|    end_station_name|end_station_id|        start_lat|         start_lng|       end_lat|       end_lng|member_casual|            lat_diff|           long_diff|\n",
      "+----------------+-------------+-------------------+-------------------+--------------------+----------------+--------------------+--------------+-----------------+------------------+--------------+--------------+-------------+--------------------+--------------------+\n",
      "|47EC0A7F82E65D52| classic_bike|2022-03-21 13:45:01|2022-03-21 13:51:18|Wabash Ave & Wack...|    TA1307000131|Kingsbury St & Ki...|  KA1503000043|        41.886875|         -87.62603|41.88917683258|-87.6385057718|       member|-0.00230183257999...|-0.00230183257999...|\n",
      "|8494861979B0F477|electric_bike|2022-03-16 09:37:16|2022-03-16 09:43:34|Michigan Ave & Oa...|           13042|Orleans St & Ches...|           620|41.90099766666667|-87.62375166666666|     41.898203|    -87.637536|       member|0.002794666666666501|0.002794666666666501|\n",
      "|EFE527AF80B66109| classic_bike|2022-03-23 19:52:02|2022-03-23 19:54:48|Broadway & Berwyn...|           13109|Broadway & Ridge Ave|         15578|        41.978353|        -87.659753| 41.9840446107|-87.6602738295|       member|-0.00569161070000...|-0.00569161070000...|\n",
      "|9F446FD9DEE3F389| classic_bike|2022-03-01 19:12:26|2022-03-01 19:22:14|Wabash Ave & Wack...|    TA1307000131|Franklin St & Jac...|  TA1305000025|        41.886875|         -87.62603| 41.8777079559|-87.6353211408|       member|0.009167044100003352|0.009167044100003352|\n",
      "|431128AD9AFFEDC0| classic_bike|2022-03-21 18:37:01|2022-03-21 19:19:11|DuSable Lake Shor...|          LF-005|Loomis St & Jacks...|         13206|        41.911722|        -87.626804|     41.877945|    -87.662007|       member| 0.03377700000000061| 0.03377700000000061|\n",
      "+----------------+-------------+-------------------+-------------------+--------------------+----------------+--------------------+--------------+-----------------+------------------+--------------+--------------+-------------+--------------------+--------------------+\n",
      "only showing top 5 rows\n",
      "\n"
     ]
    }
   ],
   "source": [
    "member = member.withColumn('lat_diff', member.start_lat-member.end_lat)\n",
    "member = member.withColumn('long_diff', member.start_lat-member.end_lat)\n",
    "\n",
    "member.show(5)"
   ]
  },
  {
   "cell_type": "code",
   "execution_count": null,
   "metadata": {},
   "outputs": [],
   "source": [
    "def degs_to_km(diff_lat, diff_long, lat):\n",
    "    km_v = abs(diff_lat) * 110.574\n",
    "    km_h = abs(diff_long) * 111.320 * math.cos(lat)\n",
    "    return km_v, km_h\n",
    "\n",
    "def euclidean_distance(func):\n",
    "    return math.sqrt(func[0]**2 + func[1]**2)"
   ]
  }
 ],
 "metadata": {
  "kernelspec": {
   "display_name": "base",
   "language": "python",
   "name": "python3"
  },
  "language_info": {
   "codemirror_mode": {
    "name": "ipython",
    "version": 3
   },
   "file_extension": ".py",
   "mimetype": "text/x-python",
   "name": "python",
   "nbconvert_exporter": "python",
   "pygments_lexer": "ipython3",
   "version": "3.8.8"
  },
  "orig_nbformat": 4,
  "vscode": {
   "interpreter": {
    "hash": "4668b2b94aebe22ab6a379c52b27e87f14fb5565ac42686a2db709d03229b54e"
   }
  }
 },
 "nbformat": 4,
 "nbformat_minor": 2
}
